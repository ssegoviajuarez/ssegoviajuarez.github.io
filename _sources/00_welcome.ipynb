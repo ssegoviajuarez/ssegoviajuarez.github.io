{
 "cells": [
  {
   "cell_type": "markdown",
   "id": "a7a07773-e395-47d8-ba75-a512735389bb",
   "metadata": {
    "tags": []
   },
   "source": [
    "(welcome)=\n",
    "# Welcome to Guidelines to SAE for Poverty Mapping\n",
    "<hr style=\"height:1px;border:none;color:#666;background-color:#666;\" />"
   ]
  },
  {
   "cell_type": "markdown",
   "id": "e6829535-fa8f-497a-a053-7239edb919c7",
   "metadata": {},
   "source": [
    "We are glad to announce the release of the long awaited “Guidelines to Small Area Estimation for Poverty Mapping” by [Paul Corral](https://github.com/pcorralrodas), Isabel Molina, Alexandru Cojocaru and [Sandra Segovia](https://github.com/ssegoviajuarez)."
   ]
  },
  {
   "cell_type": "markdown",
   "id": "c23ab89a-3d98-4bc2-8ff7-2de041849481",
   "metadata": {},
   "source": [
    "```{figure} /figures/cover.png\n",
    "---\n",
    "width: 400px\n",
    "name: cover\n",
    "---\n",
    "```"
   ]
  },
  {
   "cell_type": "markdown",
   "id": "774ff6ac-fed3-44f9-acce-405c571cab3f",
   "metadata": {},
   "source": [
    "In this document, prepared under the supervision of the Data for Policy Analysis Global Program—GSG1, the authors provide a practical guide to enable readers working on small area estimation to make informed choices among the available methodologies. Going back to before the turn of the 21st century the World Bank has led the charge on the production of poverty maps. These maps are of use to policy makers to determine the allocation of funds and inform policy design. The production of accurate maps with appropriate measures of uncertainty are the foundational element behind a successful poverty map. The guidelines delve into the aspects that practitioners should pay attention to when producing a poverty map based on small area estimates. The guidelines provide readers with 1) Stata scripts for those who wish to replicate and learn along with the text, 2) insights on some potential issues that a practitioner may face and how to address these issues, and 3) pros and cons of the methods most often applied for poverty mapping."
   ]
  },
  {
   "cell_type": "markdown",
   "id": "c84b327c-781e-4997-a265-383f8e4ccc0a",
   "metadata": {},
   "source": [
    "```{note}\n",
    "Additionally, the Stata tools for poverty mapping are available from the following GitHub repositories: \n",
    "- Survey – Census SAE: https://github.com/pcorralrodas/SAE-Stata-Package \n",
    "- Area-level SAE: https://github.com/jpazvd/fhsae  <br/>\n",
    "```"
   ]
  },
  {
   "cell_type": "markdown",
   "id": "1df66ca0-649d-4eb4-8bb3-e37ad4848984",
   "metadata": {},
   "source": [
    "(index)=\n",
    "# Index\n",
    "<hr style=\"height:1px;border:none;color:#666;background-color:#666;\" />"
   ]
  },
  {
   "cell_type": "markdown",
   "id": "1dd28c43-b131-4f19-9d6c-5364a2a299c8",
   "metadata": {},
   "source": [
    "Chapter 1: {ref}`intro` <br/>\n",
    "Chapter 2: {ref}`direct` <br/>\n",
    "Chapter 3: {ref}`area-level` <br/>\n",
    "Chapter 4: {ref}`unit-level` <br/>\n",
    "Chapter 5: {ref}`off-census` <br/>\n",
    "Chapter 6: {ref}`diagnostics` <br/>\n",
    "Chapter 7: {ref}`conclusion` <br/>"
   ]
  }
 ],
 "metadata": {
  "kernelspec": {
   "display_name": "Python 3 (ipykernel)",
   "language": "python",
   "name": "python3"
  },
  "language_info": {
   "codemirror_mode": {
    "name": "ipython",
    "version": 3
   },
   "file_extension": ".py",
   "mimetype": "text/x-python",
   "name": "python",
   "nbconvert_exporter": "python",
   "pygments_lexer": "ipython3",
   "version": "3.7.11"
  }
 },
 "nbformat": 4,
 "nbformat_minor": 5
}

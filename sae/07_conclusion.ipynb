{
 "cells": [
  {
   "cell_type": "markdown",
   "id": "20e80c0a-d725-4b2a-abb7-2aa4aa22c698",
   "metadata": {},
   "source": [
    "(conclusion)=\n",
    "# Concluding Remarks\n",
    "<hr style=\"height:1px;border:none;color:#666;background-color:#666;\" />"
   ]
  },
  {
   "cell_type": "markdown",
   "id": "07ccd2be-c243-4e0b-af57-18acbc7756db",
   "metadata": {},
   "source": [
    "The objective of these Guidelines is to illustrate the application of small area estimation methods to obtain estimates of welfare indicators at a geographical level below that achieved with regular sample surveys. They concentrate on the production of small area estimates of poverty and related indicators through model-based small area estimation -- both area- and unit-level models. The Guidelines are expected to serve as a practical guide to individuals working on the production of small area estimates of poverty so that informed choices can be made.\n",
    "\n",
    "The main contribution of the guidelines is to provide a clear and easy-to-follow set of recommendations. Toward that goal, it organizes some of the existing evidence on the best practices for poverty mapping under the considered methodologies to help practitioners make considered choices given their existing data limitations. The Guidelines also provide easy-to-follow and replicable scripts for much of the analysis presented, such that interested readers may deepen their understanding of the methods. Finally, the advantages and disadvantages of each method are presented to facilitate the user's decision.\n",
    "\n",
    "In summary, the Guidelines present evidence on what approach may be best suited in different data environments. Evidence suggests area-level models such as Fay-Herriot are quite useful when access to census microdata is not possible, although the gains in precision may be limited. When access to census microdata is possible, and data between survey and census is comparable, unit-level methods such as CensusEB will likely yield estimates of the highest quality. The importance of data transformation to approximate the model's assumptions has also been highlighted. Additionally, the importance of estimating location effects at the same level as the one where estimates will be reported is noted. Evidence is also provided showing that when the level of random location effects and the level of reporting are not aligned, it will yield noisier estimates.\n",
    "\n",
    "The Guidelines also note that the small area estimation of poverty is an active research field, and methods are constantly being improved. Some of the more recent modeling approaches discussed in the Guidelines require further methodological work. Interesting approaches have been suggested for instances where the census and survey data are not aligned. However, there is still much work to be done to refine these methodologies and address the concerns highlighted in these guidelines and elsewhere. In particular, hybrid alternatives such as unit-context models, because these are unable to replicate the full welfare distribution, are likely to yield biased estimates. Moreover, since the noise estimates for unit-context models are likely incorrect, their precision cannot be adequately evaluated. Similarly, the Guidelines also suggest that the lack of adequate noise estimates for machine learning approaches such as gradient-boosting limits their usefulness for the purposes of small area estimation of poverty, despite the method showing promising results in a validation using the Mexican Intercensal survey. Future research should focus on resolving these methodological concerns and constraints, as this would facilitate the mainstreaming of these methods and further enhance the practitioner's ability to produce reliable small area estimates of poverty when access to census microdata is not available."
   ]
  }
 ],
 "metadata": {
  "kernelspec": {
   "display_name": "Python 3 (ipykernel)",
   "language": "python",
   "name": "python3"
  },
  "language_info": {
   "codemirror_mode": {
    "name": "ipython",
    "version": 3
   },
   "file_extension": ".py",
   "mimetype": "text/x-python",
   "name": "python",
   "nbconvert_exporter": "python",
   "pygments_lexer": "ipython3",
   "version": "3.7.11"
  }
 },
 "nbformat": 4,
 "nbformat_minor": 5
}
